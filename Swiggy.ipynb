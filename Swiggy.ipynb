{
 "cells": [
  {
   "cell_type": "code",
   "execution_count": 2,
   "id": "f6cc702f",
   "metadata": {},
   "outputs": [],
   "source": [
    "import numpy as np\n",
    "import pandas as pd"
   ]
  },
  {
   "cell_type": "code",
   "execution_count": 3,
   "id": "a36ae04f",
   "metadata": {},
   "outputs": [],
   "source": [
    "df = pd.read_csv(\"Swiggy.csv\")"
   ]
  },
  {
   "cell_type": "code",
   "execution_count": 4,
   "id": "445266b7",
   "metadata": {
    "scrolled": true
   },
   "outputs": [
    {
     "data": {
      "text/html": [
       "<div>\n",
       "<style scoped>\n",
       "    .dataframe tbody tr th:only-of-type {\n",
       "        vertical-align: middle;\n",
       "    }\n",
       "\n",
       "    .dataframe tbody tr th {\n",
       "        vertical-align: top;\n",
       "    }\n",
       "\n",
       "    .dataframe thead th {\n",
       "        text-align: right;\n",
       "    }\n",
       "</style>\n",
       "<table border=\"1\" class=\"dataframe\">\n",
       "  <thead>\n",
       "    <tr style=\"text-align: right;\">\n",
       "      <th></th>\n",
       "      <th>id</th>\n",
       "      <th>name</th>\n",
       "      <th>city</th>\n",
       "      <th>rating</th>\n",
       "      <th>rating_count</th>\n",
       "      <th>cost</th>\n",
       "      <th>cuisine</th>\n",
       "      <th>lic_no</th>\n",
       "      <th>link</th>\n",
       "      <th>address</th>\n",
       "      <th>menu</th>\n",
       "    </tr>\n",
       "  </thead>\n",
       "  <tbody>\n",
       "    <tr>\n",
       "      <th>0</th>\n",
       "      <td>567335</td>\n",
       "      <td>AB FOODS POINT</td>\n",
       "      <td>Abohar</td>\n",
       "      <td>--</td>\n",
       "      <td>Too Few Ratings</td>\n",
       "      <td>₹ 200</td>\n",
       "      <td>Beverages,Pizzas</td>\n",
       "      <td>22122652000138</td>\n",
       "      <td>https://www.swiggy.com/restaurants/ab-foods-po...</td>\n",
       "      <td>AB FOODS POINT, NEAR RISHI NARANG DENTAL CLINI...</td>\n",
       "      <td>Menu/567335.json</td>\n",
       "    </tr>\n",
       "    <tr>\n",
       "      <th>1</th>\n",
       "      <td>531342</td>\n",
       "      <td>Janta Sweet House</td>\n",
       "      <td>Abohar</td>\n",
       "      <td>4.4</td>\n",
       "      <td>50+ ratings</td>\n",
       "      <td>₹ 200</td>\n",
       "      <td>Sweets,Bakery</td>\n",
       "      <td>12117201000112</td>\n",
       "      <td>https://www.swiggy.com/restaurants/janta-sweet...</td>\n",
       "      <td>Janta Sweet House, Bazar No.9, Circullar Road,...</td>\n",
       "      <td>Menu/531342.json</td>\n",
       "    </tr>\n",
       "  </tbody>\n",
       "</table>\n",
       "</div>"
      ],
      "text/plain": [
       "       id               name    city rating     rating_count   cost  \\\n",
       "0  567335     AB FOODS POINT  Abohar     --  Too Few Ratings  ₹ 200   \n",
       "1  531342  Janta Sweet House  Abohar    4.4      50+ ratings  ₹ 200   \n",
       "\n",
       "            cuisine          lic_no  \\\n",
       "0  Beverages,Pizzas  22122652000138   \n",
       "1     Sweets,Bakery  12117201000112   \n",
       "\n",
       "                                                link  \\\n",
       "0  https://www.swiggy.com/restaurants/ab-foods-po...   \n",
       "1  https://www.swiggy.com/restaurants/janta-sweet...   \n",
       "\n",
       "                                             address              menu  \n",
       "0  AB FOODS POINT, NEAR RISHI NARANG DENTAL CLINI...  Menu/567335.json  \n",
       "1  Janta Sweet House, Bazar No.9, Circullar Road,...  Menu/531342.json  "
      ]
     },
     "execution_count": 4,
     "metadata": {},
     "output_type": "execute_result"
    }
   ],
   "source": [
    "df.head(2)"
   ]
  },
  {
   "cell_type": "markdown",
   "id": "c0d64ccf",
   "metadata": {},
   "source": [
    "## Data Cleaning\n",
    "1. Remove null rows\n",
    "2. Check duplicate rows, if there exist the same remove them.\n",
    "3. Dropped column which are not required for analysis.\n",
    "4. Check, DO we have any product id twice?\n",
    "5. Convert rating column into float from object.\n",
    "6. Find out the numeric cost from cost column."
   ]
  },
  {
   "cell_type": "code",
   "execution_count": 5,
   "id": "fc49d491",
   "metadata": {},
   "outputs": [
    {
     "data": {
      "text/plain": [
       "(148541, 11)"
      ]
     },
     "execution_count": 5,
     "metadata": {},
     "output_type": "execute_result"
    }
   ],
   "source": [
    "df.shape"
   ]
  },
  {
   "cell_type": "code",
   "execution_count": 6,
   "id": "c726ae8b",
   "metadata": {},
   "outputs": [],
   "source": [
    "df = df.dropna()"
   ]
  },
  {
   "cell_type": "code",
   "execution_count": 7,
   "id": "23119c8b",
   "metadata": {},
   "outputs": [
    {
     "data": {
      "text/plain": [
       "id              0\n",
       "name            0\n",
       "city            0\n",
       "rating          0\n",
       "rating_count    0\n",
       "cost            0\n",
       "cuisine         0\n",
       "lic_no          0\n",
       "link            0\n",
       "address         0\n",
       "menu            0\n",
       "dtype: int64"
      ]
     },
     "execution_count": 7,
     "metadata": {},
     "output_type": "execute_result"
    }
   ],
   "source": [
    "df.isnull().sum()"
   ]
  },
  {
   "cell_type": "code",
   "execution_count": 8,
   "id": "90cfe02e",
   "metadata": {},
   "outputs": [
    {
     "data": {
      "text/plain": [
       "(148255, 11)"
      ]
     },
     "execution_count": 8,
     "metadata": {},
     "output_type": "execute_result"
    }
   ],
   "source": [
    "df.shape"
   ]
  },
  {
   "cell_type": "code",
   "execution_count": 9,
   "id": "0bab90a9",
   "metadata": {
    "scrolled": true
   },
   "outputs": [],
   "source": [
    "df = df.drop_duplicates()"
   ]
  },
  {
   "cell_type": "markdown",
   "id": "fb49b6a6",
   "metadata": {},
   "source": [
    "Since size is same after removing duplicate rows so that means there were no duplicate rows."
   ]
  },
  {
   "cell_type": "code",
   "execution_count": 10,
   "id": "b754ee7d",
   "metadata": {},
   "outputs": [],
   "source": [
    "df.drop(\"menu\", axis = 1, inplace = True)"
   ]
  },
  {
   "cell_type": "code",
   "execution_count": 11,
   "id": "dcfc53be",
   "metadata": {
    "scrolled": false
   },
   "outputs": [
    {
     "data": {
      "text/plain": [
       "567335    1\n",
       "408389    1\n",
       "574736    1\n",
       "418194    1\n",
       "511159    1\n",
       "         ..\n",
       "501726    1\n",
       "395812    1\n",
       "467993    1\n",
       "89964     1\n",
       "447770    1\n",
       "Name: id, Length: 148255, dtype: int64"
      ]
     },
     "execution_count": 11,
     "metadata": {},
     "output_type": "execute_result"
    }
   ],
   "source": [
    "df[\"id\"].value_counts(ascending = False)"
   ]
  },
  {
   "cell_type": "markdown",
   "id": "1d31f5d7",
   "metadata": {},
   "source": [
    "There is no product id twice."
   ]
  },
  {
   "cell_type": "code",
   "execution_count": 12,
   "id": "b5ca1e2e",
   "metadata": {},
   "outputs": [
    {
     "name": "stdout",
     "output_type": "stream",
     "text": [
      "<class 'pandas.core.frame.DataFrame'>\n",
      "Int64Index: 148255 entries, 0 to 148540\n",
      "Data columns (total 10 columns):\n",
      " #   Column        Non-Null Count   Dtype \n",
      "---  ------        --------------   ----- \n",
      " 0   id            148255 non-null  int64 \n",
      " 1   name          148255 non-null  object\n",
      " 2   city          148255 non-null  object\n",
      " 3   rating        148255 non-null  object\n",
      " 4   rating_count  148255 non-null  object\n",
      " 5   cost          148255 non-null  object\n",
      " 6   cuisine       148255 non-null  object\n",
      " 7   lic_no        148255 non-null  object\n",
      " 8   link          148255 non-null  object\n",
      " 9   address       148255 non-null  object\n",
      "dtypes: int64(1), object(9)\n",
      "memory usage: 12.4+ MB\n"
     ]
    }
   ],
   "source": [
    "df.info()"
   ]
  },
  {
   "cell_type": "code",
   "execution_count": 13,
   "id": "04c562fb",
   "metadata": {
    "scrolled": true
   },
   "outputs": [
    {
     "data": {
      "text/plain": [
       "Too Few Ratings    86912\n",
       "20+ ratings        21604\n",
       "100+ ratings       20514\n",
       "50+ ratings        11985\n",
       "500+ ratings        4390\n",
       "1K+ ratings         2737\n",
       "5K+ ratings           98\n",
       "10K+ ratings          15\n",
       "Name: rating_count, dtype: int64"
      ]
     },
     "execution_count": 13,
     "metadata": {},
     "output_type": "execute_result"
    }
   ],
   "source": [
    "df[\"rating_count\"].value_counts()"
   ]
  },
  {
   "cell_type": "code",
   "execution_count": 14,
   "id": "2ab5196d",
   "metadata": {},
   "outputs": [],
   "source": [
    "df[\"rating\"] = df[\"rating\"].replace(\"--\",0).astype(float)"
   ]
  },
  {
   "cell_type": "code",
   "execution_count": 15,
   "id": "5ca5577b",
   "metadata": {},
   "outputs": [],
   "source": [
    "df[\"numeric_cost\"]=df[\"cost\"].str.extract('(\\d+)').astype(int)"
   ]
  },
  {
   "cell_type": "code",
   "execution_count": 16,
   "id": "b319db2b",
   "metadata": {},
   "outputs": [],
   "source": [
    "df[\"id\"]=df[\"id\"].astype(object)"
   ]
  },
  {
   "cell_type": "code",
   "execution_count": 17,
   "id": "19c60b4c",
   "metadata": {
    "scrolled": false
   },
   "outputs": [
    {
     "name": "stdout",
     "output_type": "stream",
     "text": [
      "<class 'pandas.core.frame.DataFrame'>\n",
      "Int64Index: 148255 entries, 0 to 148540\n",
      "Data columns (total 11 columns):\n",
      " #   Column        Non-Null Count   Dtype  \n",
      "---  ------        --------------   -----  \n",
      " 0   id            148255 non-null  object \n",
      " 1   name          148255 non-null  object \n",
      " 2   city          148255 non-null  object \n",
      " 3   rating        148255 non-null  float64\n",
      " 4   rating_count  148255 non-null  object \n",
      " 5   cost          148255 non-null  object \n",
      " 6   cuisine       148255 non-null  object \n",
      " 7   lic_no        148255 non-null  object \n",
      " 8   link          148255 non-null  object \n",
      " 9   address       148255 non-null  object \n",
      " 10  numeric_cost  148255 non-null  int32  \n",
      "dtypes: float64(1), int32(1), object(9)\n",
      "memory usage: 13.0+ MB\n"
     ]
    }
   ],
   "source": [
    "df.info()"
   ]
  },
  {
   "cell_type": "markdown",
   "id": "9cd2272d",
   "metadata": {},
   "source": [
    "# Data Analysis\n",
    "1. Top 5 cities in number of restaurants of swiggy.\n",
    "2. Top 5 restaurants which have longest chain.\n",
    "3. Number of cities(including subregions and excluding subregions) where swiggy is having their restaurants listed\n",
    "4. Which restaurant in Banglore has the most number of people visited(take a number of reviews for reference)\n",
    "5. Popular Cuisine overall and popular cuisine according to city\n"
   ]
  },
  {
   "cell_type": "code",
   "execution_count": 18,
   "id": "76ee6329",
   "metadata": {},
   "outputs": [
    {
     "data": {
      "text/html": [
       "<div>\n",
       "<style scoped>\n",
       "    .dataframe tbody tr th:only-of-type {\n",
       "        vertical-align: middle;\n",
       "    }\n",
       "\n",
       "    .dataframe tbody tr th {\n",
       "        vertical-align: top;\n",
       "    }\n",
       "\n",
       "    .dataframe thead th {\n",
       "        text-align: right;\n",
       "    }\n",
       "</style>\n",
       "<table border=\"1\" class=\"dataframe\">\n",
       "  <thead>\n",
       "    <tr style=\"text-align: right;\">\n",
       "      <th></th>\n",
       "      <th>id</th>\n",
       "      <th>name</th>\n",
       "      <th>city</th>\n",
       "      <th>rating</th>\n",
       "      <th>rating_count</th>\n",
       "      <th>cost</th>\n",
       "      <th>cuisine</th>\n",
       "      <th>lic_no</th>\n",
       "      <th>link</th>\n",
       "      <th>address</th>\n",
       "      <th>numeric_cost</th>\n",
       "    </tr>\n",
       "  </thead>\n",
       "  <tbody>\n",
       "    <tr>\n",
       "      <th>0</th>\n",
       "      <td>567335</td>\n",
       "      <td>AB FOODS POINT</td>\n",
       "      <td>Abohar</td>\n",
       "      <td>0.0</td>\n",
       "      <td>Too Few Ratings</td>\n",
       "      <td>₹ 200</td>\n",
       "      <td>Beverages,Pizzas</td>\n",
       "      <td>22122652000138</td>\n",
       "      <td>https://www.swiggy.com/restaurants/ab-foods-po...</td>\n",
       "      <td>AB FOODS POINT, NEAR RISHI NARANG DENTAL CLINI...</td>\n",
       "      <td>200</td>\n",
       "    </tr>\n",
       "    <tr>\n",
       "      <th>1</th>\n",
       "      <td>531342</td>\n",
       "      <td>Janta Sweet House</td>\n",
       "      <td>Abohar</td>\n",
       "      <td>4.4</td>\n",
       "      <td>50+ ratings</td>\n",
       "      <td>₹ 200</td>\n",
       "      <td>Sweets,Bakery</td>\n",
       "      <td>12117201000112</td>\n",
       "      <td>https://www.swiggy.com/restaurants/janta-sweet...</td>\n",
       "      <td>Janta Sweet House, Bazar No.9, Circullar Road,...</td>\n",
       "      <td>200</td>\n",
       "    </tr>\n",
       "    <tr>\n",
       "      <th>2</th>\n",
       "      <td>158203</td>\n",
       "      <td>theka coffee desi</td>\n",
       "      <td>Abohar</td>\n",
       "      <td>3.8</td>\n",
       "      <td>100+ ratings</td>\n",
       "      <td>₹ 100</td>\n",
       "      <td>Beverages</td>\n",
       "      <td>22121652000190</td>\n",
       "      <td>https://www.swiggy.com/restaurants/theka-coffe...</td>\n",
       "      <td>theka coffee desi, sahtiya sadan road city</td>\n",
       "      <td>100</td>\n",
       "    </tr>\n",
       "    <tr>\n",
       "      <th>3</th>\n",
       "      <td>187912</td>\n",
       "      <td>Singh Hut</td>\n",
       "      <td>Abohar</td>\n",
       "      <td>3.7</td>\n",
       "      <td>20+ ratings</td>\n",
       "      <td>₹ 250</td>\n",
       "      <td>Fast Food,Indian</td>\n",
       "      <td>22119652000167</td>\n",
       "      <td>https://www.swiggy.com/restaurants/singh-hut-n...</td>\n",
       "      <td>Singh Hut, CIRCULAR ROAD NEAR NEHRU PARK ABOHAR</td>\n",
       "      <td>250</td>\n",
       "    </tr>\n",
       "    <tr>\n",
       "      <th>4</th>\n",
       "      <td>543530</td>\n",
       "      <td>GRILL MASTERS</td>\n",
       "      <td>Abohar</td>\n",
       "      <td>0.0</td>\n",
       "      <td>Too Few Ratings</td>\n",
       "      <td>₹ 250</td>\n",
       "      <td>Italian-American,Fast Food</td>\n",
       "      <td>12122201000053</td>\n",
       "      <td>https://www.swiggy.com/restaurants/grill-maste...</td>\n",
       "      <td>GRILL MASTERS, ADA Heights, Abohar - Hanumanga...</td>\n",
       "      <td>250</td>\n",
       "    </tr>\n",
       "  </tbody>\n",
       "</table>\n",
       "</div>"
      ],
      "text/plain": [
       "       id               name    city  rating     rating_count   cost  \\\n",
       "0  567335     AB FOODS POINT  Abohar     0.0  Too Few Ratings  ₹ 200   \n",
       "1  531342  Janta Sweet House  Abohar     4.4      50+ ratings  ₹ 200   \n",
       "2  158203  theka coffee desi  Abohar     3.8     100+ ratings  ₹ 100   \n",
       "3  187912          Singh Hut  Abohar     3.7      20+ ratings  ₹ 250   \n",
       "4  543530      GRILL MASTERS  Abohar     0.0  Too Few Ratings  ₹ 250   \n",
       "\n",
       "                      cuisine          lic_no  \\\n",
       "0            Beverages,Pizzas  22122652000138   \n",
       "1               Sweets,Bakery  12117201000112   \n",
       "2                   Beverages  22121652000190   \n",
       "3            Fast Food,Indian  22119652000167   \n",
       "4  Italian-American,Fast Food  12122201000053   \n",
       "\n",
       "                                                link  \\\n",
       "0  https://www.swiggy.com/restaurants/ab-foods-po...   \n",
       "1  https://www.swiggy.com/restaurants/janta-sweet...   \n",
       "2  https://www.swiggy.com/restaurants/theka-coffe...   \n",
       "3  https://www.swiggy.com/restaurants/singh-hut-n...   \n",
       "4  https://www.swiggy.com/restaurants/grill-maste...   \n",
       "\n",
       "                                             address  numeric_cost  \n",
       "0  AB FOODS POINT, NEAR RISHI NARANG DENTAL CLINI...           200  \n",
       "1  Janta Sweet House, Bazar No.9, Circullar Road,...           200  \n",
       "2         theka coffee desi, sahtiya sadan road city           100  \n",
       "3    Singh Hut, CIRCULAR ROAD NEAR NEHRU PARK ABOHAR           250  \n",
       "4  GRILL MASTERS, ADA Heights, Abohar - Hanumanga...           250  "
      ]
     },
     "execution_count": 18,
     "metadata": {},
     "output_type": "execute_result"
    }
   ],
   "source": [
    "df.head()"
   ]
  },
  {
   "cell_type": "code",
   "execution_count": 19,
   "id": "e0edaaa6",
   "metadata": {},
   "outputs": [
    {
     "data": {
      "text/plain": [
       "Bikaner                 1665\n",
       "Noida-1                 1424\n",
       "Indirapuram,Delhi       1279\n",
       "BTM,Bangalore           1159\n",
       "Rohini,Delhi            1135\n",
       "                        ... \n",
       "Alwarpet,Chennai           1\n",
       "Naharlagun                 1\n",
       "Mahim Dadar,Mumbai         1\n",
       "Starbucks_BKC,Mumbai       1\n",
       "Rangpo                     1\n",
       "Name: city, Length: 821, dtype: int64"
      ]
     },
     "execution_count": 19,
     "metadata": {},
     "output_type": "execute_result"
    }
   ],
   "source": [
    "df[\"city\"].value_counts()"
   ]
  },
  {
   "cell_type": "markdown",
   "id": "98e74bce",
   "metadata": {},
   "source": [
    "## 1.Top 5 cities in number of restaurants on swiggy\n",
    "1. Bikaner\n",
    "2. Noida-1\n",
    "3. Indirapuram,Delhi\n",
    "4. BTM, Bangalore\n",
    "5. Rohini, Delhi"
   ]
  },
  {
   "cell_type": "code",
   "execution_count": 20,
   "id": "ec71fa2a",
   "metadata": {},
   "outputs": [
    {
     "data": {
      "text/plain": [
       "Domino's Pizza                                     442\n",
       "Pizza Hut                                          319\n",
       "KFC                                                309\n",
       "Kwality Walls Frozen Dessert and Ice Cream Shop    299\n",
       "Baskin Robbins                                     274\n",
       "                                                  ... \n",
       "Azad Chicken Point                                   1\n",
       "Punjab de paranthe                                   1\n",
       "delhi 6 Chicken Point                                1\n",
       "Mirch Masala by Chauhan Sahab                        1\n",
       "Lazeez kitchen                                       1\n",
       "Name: name, Length: 112683, dtype: int64"
      ]
     },
     "execution_count": 20,
     "metadata": {},
     "output_type": "execute_result"
    }
   ],
   "source": [
    "df[\"name\"].value_counts()"
   ]
  },
  {
   "cell_type": "markdown",
   "id": "9d7ab6c2",
   "metadata": {},
   "source": [
    "## 2. Top 5 restaurants which have longest chain\n",
    "1. Domino's Pizza\n",
    "2. Pizza Hut\n",
    "3. KFC\n",
    "4. Kwality Walls Frozen Dessert and Ice Cream Shop\n",
    "5. Baskin Robbins"
   ]
  },
  {
   "cell_type": "markdown",
   "id": "c39a5d0d",
   "metadata": {},
   "source": [
    "There are 112683 different restaurants on swiggy."
   ]
  },
  {
   "cell_type": "code",
   "execution_count": 21,
   "id": "cb2c4df4",
   "metadata": {},
   "outputs": [
    {
     "data": {
      "text/plain": [
       "<AxesSubplot: >"
      ]
     },
     "execution_count": 21,
     "metadata": {},
     "output_type": "execute_result"
    },
    {
     "data": {
      "image/png": "[encoded data removed]",
      "text/plain": [
       "<Figure size 640x480 with 1 Axes>"
      ]
     },
     "metadata": {},
     "output_type": "display_data"
    }
   ],
   "source": [
    "df[\"name\"].value_counts().head(10).plot(kind = \"barh\")"
   ]
  },
  {
   "cell_type": "code",
   "execution_count": 22,
   "id": "82c9781b",
   "metadata": {},
   "outputs": [],
   "source": [
    "top5 = df[\"name\"].value_counts().head(5)"
   ]
  },
  {
   "cell_type": "code",
   "execution_count": 23,
   "id": "19ae362b",
   "metadata": {},
   "outputs": [
    {
     "data": {
      "text/plain": [
       "array(['Pizzas', 'Desserts', 'American,Snacks', 'Desserts,Ice Cream',\n",
       "       'Ice Cream', 'Pizzas,Fast Food', 'Fast Food,Pizzas',\n",
       "       'Ice Cream,Desserts', 'Pizzas,Snacks', 'Ice Cream,Beverages',\n",
       "       'Indian', 'Desserts,Sweets', 'American', 'Beverages,Desserts',\n",
       "       'Ice Cream,Bakery', 'North Indian,Desserts', 'Beverages,Ice Cream',\n",
       "       'Desserts,Beverages', 'Pizzas,Desserts', 'North Indian',\n",
       "       'Italian,Pizzas', 'Pizzas,Beverages', 'Pizzas,American'],\n",
       "      dtype=object)"
      ]
     },
     "execution_count": 23,
     "metadata": {},
     "output_type": "execute_result"
    }
   ],
   "source": [
    "df[df[\"name\"].isin(top5.index)][\"cuisine\"].unique()"
   ]
  },
  {
   "cell_type": "markdown",
   "id": "ea855c9f",
   "metadata": {},
   "source": [
    "**Top 5 brands have cuisines mainly Pizzas and IceCream.**"
   ]
  },
  {
   "cell_type": "markdown",
   "id": "489d49e8",
   "metadata": {},
   "source": [
    "## 3.Number of cities(including subregions and excluding subregions) where swiggy is having their restaurants listed "
   ]
  },
  {
   "cell_type": "code",
   "execution_count": 24,
   "id": "5b5fa200",
   "metadata": {},
   "outputs": [
    {
     "data": {
      "text/plain": [
       "821"
      ]
     },
     "execution_count": 24,
     "metadata": {},
     "output_type": "execute_result"
    }
   ],
   "source": [
    "Number_of_cities_including_subregions =len(df[\"city\"].unique())\n",
    "Number_of_cities_including_subregions"
   ]
  },
  {
   "cell_type": "code",
   "execution_count": 25,
   "id": "c5d82db0",
   "metadata": {},
   "outputs": [],
   "source": [
    "subregions = df[\"city\"].unique()"
   ]
  },
  {
   "cell_type": "code",
   "execution_count": 26,
   "id": "ea21fb0b",
   "metadata": {},
   "outputs": [],
   "source": [
    "city = []\n",
    "for i in subregions:\n",
    "    if(i.count(\",\")>0):\n",
    "        city.append(i.split(\",\")[1])\n",
    "    else:\n",
    "        city.append(i)       "
   ]
  },
  {
   "cell_type": "code",
   "execution_count": 27,
   "id": "f5503620",
   "metadata": {},
   "outputs": [],
   "source": [
    "city = set(city)"
   ]
  },
  {
   "cell_type": "code",
   "execution_count": 28,
   "id": "4b6dc1a6",
   "metadata": {},
   "outputs": [
    {
     "data": {
      "text/plain": [
       "554"
      ]
     },
     "execution_count": 28,
     "metadata": {},
     "output_type": "execute_result"
    }
   ],
   "source": [
    "len(city)"
   ]
  },
  {
   "cell_type": "markdown",
   "id": "5f154480",
   "metadata": {},
   "source": [
    "**There are 821 cities including subregions and 554 cities excluding subregions**"
   ]
  },
  {
   "cell_type": "markdown",
   "id": "1073df23",
   "metadata": {},
   "source": [
    "## Restaurant with maximum rating in each city"
   ]
  },
  {
   "cell_type": "code",
   "execution_count": 29,
   "id": "b84a9614",
   "metadata": {},
   "outputs": [
    {
     "data": {
      "text/html": [
       "<div>\n",
       "<style scoped>\n",
       "    .dataframe tbody tr th:only-of-type {\n",
       "        vertical-align: middle;\n",
       "    }\n",
       "\n",
       "    .dataframe tbody tr th {\n",
       "        vertical-align: top;\n",
       "    }\n",
       "\n",
       "    .dataframe thead th {\n",
       "        text-align: right;\n",
       "    }\n",
       "</style>\n",
       "<table border=\"1\" class=\"dataframe\">\n",
       "  <thead>\n",
       "    <tr style=\"text-align: right;\">\n",
       "      <th></th>\n",
       "      <th>city</th>\n",
       "      <th>rating</th>\n",
       "      <th>numeric_cost</th>\n",
       "    </tr>\n",
       "  </thead>\n",
       "  <tbody>\n",
       "    <tr>\n",
       "      <th>0</th>\n",
       "      <td>Abids &amp; Koti,Hyderabad</td>\n",
       "      <td>5.0</td>\n",
       "      <td>1700</td>\n",
       "    </tr>\n",
       "    <tr>\n",
       "      <th>1</th>\n",
       "      <td>Abohar</td>\n",
       "      <td>4.7</td>\n",
       "      <td>700</td>\n",
       "    </tr>\n",
       "    <tr>\n",
       "      <th>2</th>\n",
       "      <td>Adajan,Surat</td>\n",
       "      <td>4.8</td>\n",
       "      <td>800</td>\n",
       "    </tr>\n",
       "    <tr>\n",
       "      <th>3</th>\n",
       "      <td>Adilabad</td>\n",
       "      <td>4.0</td>\n",
       "      <td>400</td>\n",
       "    </tr>\n",
       "    <tr>\n",
       "      <th>4</th>\n",
       "      <td>Adityapur</td>\n",
       "      <td>4.8</td>\n",
       "      <td>1000</td>\n",
       "    </tr>\n",
       "    <tr>\n",
       "      <th>...</th>\n",
       "      <td>...</td>\n",
       "      <td>...</td>\n",
       "      <td>...</td>\n",
       "    </tr>\n",
       "    <tr>\n",
       "      <th>816</th>\n",
       "      <td>Yavatmal</td>\n",
       "      <td>4.7</td>\n",
       "      <td>400</td>\n",
       "    </tr>\n",
       "    <tr>\n",
       "      <th>817</th>\n",
       "      <td>Yelahanka,Bangalore</td>\n",
       "      <td>5.0</td>\n",
       "      <td>2022</td>\n",
       "    </tr>\n",
       "    <tr>\n",
       "      <th>818</th>\n",
       "      <td>Yeshwanthpur,Bangalore</td>\n",
       "      <td>4.8</td>\n",
       "      <td>1500</td>\n",
       "    </tr>\n",
       "    <tr>\n",
       "      <th>819</th>\n",
       "      <td>Zirakpur,Chandigarh</td>\n",
       "      <td>4.8</td>\n",
       "      <td>1200</td>\n",
       "    </tr>\n",
       "    <tr>\n",
       "      <th>820</th>\n",
       "      <td>sohna road,Gurgaon</td>\n",
       "      <td>5.0</td>\n",
       "      <td>2000</td>\n",
       "    </tr>\n",
       "  </tbody>\n",
       "</table>\n",
       "<p>821 rows × 3 columns</p>\n",
       "</div>"
      ],
      "text/plain": [
       "                       city  rating  numeric_cost\n",
       "0    Abids & Koti,Hyderabad     5.0          1700\n",
       "1                    Abohar     4.7           700\n",
       "2              Adajan,Surat     4.8           800\n",
       "3                  Adilabad     4.0           400\n",
       "4                 Adityapur     4.8          1000\n",
       "..                      ...     ...           ...\n",
       "816                Yavatmal     4.7           400\n",
       "817     Yelahanka,Bangalore     5.0          2022\n",
       "818  Yeshwanthpur,Bangalore     4.8          1500\n",
       "819     Zirakpur,Chandigarh     4.8          1200\n",
       "820      sohna road,Gurgaon     5.0          2000\n",
       "\n",
       "[821 rows x 3 columns]"
      ]
     },
     "execution_count": 29,
     "metadata": {},
     "output_type": "execute_result"
    }
   ],
   "source": [
    "df.groupby(\"city\").max(\"rating\").reset_index()"
   ]
  },
  {
   "cell_type": "code",
   "execution_count": 30,
   "id": "919ffcfa",
   "metadata": {},
   "outputs": [
    {
     "data": {
      "text/plain": [
       "id                                                         573656\n",
       "name                                                    yummy hub\n",
       "city                                                       Abohar\n",
       "rating                                                        4.7\n",
       "rating_count                                      Too Few Ratings\n",
       "cost                                                        ₹ 700\n",
       "cuisine                                                   Tandoor\n",
       "lic_no                                                    license\n",
       "link            https://www.swiggy.com/restaurants/yummy-hub-c...\n",
       "address         yummy hub, hanumangarh road near dr naveen set...\n",
       "numeric_cost                                                  700\n",
       "dtype: object"
      ]
     },
     "execution_count": 30,
     "metadata": {},
     "output_type": "execute_result"
    }
   ],
   "source": [
    "df[df[\"city\"]==\"Abohar\"].max()"
   ]
  },
  {
   "cell_type": "markdown",
   "id": "d675fd34",
   "metadata": {},
   "source": [
    "## 4. Which restaurant in Banglore has the most number of people visited(take a number of reviews for reference)?"
   ]
  },
  {
   "cell_type": "code",
   "execution_count": 31,
   "id": "ff0cc31f",
   "metadata": {
    "scrolled": true
   },
   "outputs": [
    {
     "data": {
      "text/html": [
       "<div>\n",
       "<style scoped>\n",
       "    .dataframe tbody tr th:only-of-type {\n",
       "        vertical-align: middle;\n",
       "    }\n",
       "\n",
       "    .dataframe tbody tr th {\n",
       "        vertical-align: top;\n",
       "    }\n",
       "\n",
       "    .dataframe thead th {\n",
       "        text-align: right;\n",
       "    }\n",
       "</style>\n",
       "<table border=\"1\" class=\"dataframe\">\n",
       "  <thead>\n",
       "    <tr style=\"text-align: right;\">\n",
       "      <th></th>\n",
       "      <th>id</th>\n",
       "      <th>name</th>\n",
       "      <th>city</th>\n",
       "      <th>rating</th>\n",
       "      <th>rating_count</th>\n",
       "      <th>cost</th>\n",
       "      <th>cuisine</th>\n",
       "      <th>lic_no</th>\n",
       "      <th>link</th>\n",
       "      <th>address</th>\n",
       "      <th>numeric_cost</th>\n",
       "    </tr>\n",
       "  </thead>\n",
       "  <tbody>\n",
       "    <tr>\n",
       "      <th>0</th>\n",
       "      <td>567335</td>\n",
       "      <td>AB FOODS POINT</td>\n",
       "      <td>Abohar</td>\n",
       "      <td>0.0</td>\n",
       "      <td>Too Few Ratings</td>\n",
       "      <td>₹ 200</td>\n",
       "      <td>Beverages,Pizzas</td>\n",
       "      <td>22122652000138</td>\n",
       "      <td>https://www.swiggy.com/restaurants/ab-foods-po...</td>\n",
       "      <td>AB FOODS POINT, NEAR RISHI NARANG DENTAL CLINI...</td>\n",
       "      <td>200</td>\n",
       "    </tr>\n",
       "    <tr>\n",
       "      <th>1</th>\n",
       "      <td>531342</td>\n",
       "      <td>Janta Sweet House</td>\n",
       "      <td>Abohar</td>\n",
       "      <td>4.4</td>\n",
       "      <td>50+ ratings</td>\n",
       "      <td>₹ 200</td>\n",
       "      <td>Sweets,Bakery</td>\n",
       "      <td>12117201000112</td>\n",
       "      <td>https://www.swiggy.com/restaurants/janta-sweet...</td>\n",
       "      <td>Janta Sweet House, Bazar No.9, Circullar Road,...</td>\n",
       "      <td>200</td>\n",
       "    </tr>\n",
       "  </tbody>\n",
       "</table>\n",
       "</div>"
      ],
      "text/plain": [
       "       id               name    city  rating     rating_count   cost  \\\n",
       "0  567335     AB FOODS POINT  Abohar     0.0  Too Few Ratings  ₹ 200   \n",
       "1  531342  Janta Sweet House  Abohar     4.4      50+ ratings  ₹ 200   \n",
       "\n",
       "            cuisine          lic_no  \\\n",
       "0  Beverages,Pizzas  22122652000138   \n",
       "1     Sweets,Bakery  12117201000112   \n",
       "\n",
       "                                                link  \\\n",
       "0  https://www.swiggy.com/restaurants/ab-foods-po...   \n",
       "1  https://www.swiggy.com/restaurants/janta-sweet...   \n",
       "\n",
       "                                             address  numeric_cost  \n",
       "0  AB FOODS POINT, NEAR RISHI NARANG DENTAL CLINI...           200  \n",
       "1  Janta Sweet House, Bazar No.9, Circullar Road,...           200  "
      ]
     },
     "execution_count": 31,
     "metadata": {},
     "output_type": "execute_result"
    }
   ],
   "source": [
    "df.head(2)"
   ]
  },
  {
   "cell_type": "code",
   "execution_count": 32,
   "id": "bfb0e2ba",
   "metadata": {},
   "outputs": [],
   "source": [
    "Bangalore_rows = df[df[\"city\"].str.contains(\"Bangalore\")]"
   ]
  },
  {
   "cell_type": "code",
   "execution_count": 33,
   "id": "95bee7a8",
   "metadata": {},
   "outputs": [
    {
     "data": {
      "text/plain": [
       "Too Few Ratings    8090\n",
       "100+ ratings       2360\n",
       "20+ ratings        2233\n",
       "50+ ratings        1273\n",
       "500+ ratings        615\n",
       "1K+ ratings         349\n",
       "5K+ ratings           9\n",
       "Name: rating_count, dtype: int64"
      ]
     },
     "execution_count": 33,
     "metadata": {},
     "output_type": "execute_result"
    }
   ],
   "source": [
    "Bangalore_rows[\"rating_count\"].value_counts()"
   ]
  },
  {
   "cell_type": "code",
   "execution_count": 34,
   "id": "d8bb460e",
   "metadata": {},
   "outputs": [],
   "source": [
    "Bangalore_max_people_visited = Bangalore_rows[Bangalore_rows[\"rating_count\"]==\"5K+ ratings\"]"
   ]
  },
  {
   "cell_type": "markdown",
   "id": "09eebd94",
   "metadata": {},
   "source": [
    "## 5. Popular Cuisine overall and popular cuisine according to city"
   ]
  },
  {
   "cell_type": "code",
   "execution_count": 35,
   "id": "7d62b407",
   "metadata": {},
   "outputs": [
    {
     "data": {
      "text/plain": [
       "2131"
      ]
     },
     "execution_count": 35,
     "metadata": {},
     "output_type": "execute_result"
    }
   ],
   "source": [
    "len(df[\"cuisine\"].unique())"
   ]
  },
  {
   "cell_type": "code",
   "execution_count": 36,
   "id": "d790ec9f",
   "metadata": {},
   "outputs": [
    {
     "data": {
      "text/plain": [
       "0                   [Beverages, Pizzas]\n",
       "1                      [Sweets, Bakery]\n",
       "2                           [Beverages]\n",
       "3                   [Fast Food, Indian]\n",
       "4         [Italian-American, Fast Food]\n",
       "                      ...              \n",
       "148536              [Fast Food, Snacks]\n",
       "148537                         [Pizzas]\n",
       "148538              [Fast Food, Snacks]\n",
       "148539                    [Continental]\n",
       "148540                         [Pizzas]\n",
       "Name: cuisine, Length: 148255, dtype: object"
      ]
     },
     "execution_count": 36,
     "metadata": {},
     "output_type": "execute_result"
    }
   ],
   "source": [
    "df[\"cuisine\"].str.split(\",\")"
   ]
  },
  {
   "cell_type": "code",
   "execution_count": 37,
   "id": "83dc8c83",
   "metadata": {},
   "outputs": [
    {
     "data": {
      "text/plain": [
       "North Indian,Chinese         6463\n",
       "Indian                       6399\n",
       "Chinese                      5045\n",
       "North Indian                 4764\n",
       "Indian,Chinese               4368\n",
       "                             ... \n",
       "Italian,Middle Eastern          1\n",
       "Jain,Desserts                   1\n",
       "British,Fast Food               1\n",
       "Keto,Asian                      1\n",
       "Barbecue,Italian-American       1\n",
       "Name: cuisine, Length: 2131, dtype: int64"
      ]
     },
     "execution_count": 37,
     "metadata": {},
     "output_type": "execute_result"
    }
   ],
   "source": [
    "df[\"cuisine\"].value_counts()"
   ]
  }
 ],
 "metadata": {
  "kernelspec": {
   "display_name": "Python 3 (ipykernel)",
   "language": "python",
   "name": "python3"
  },
  "language_info": {
   "codemirror_mode": {
    "name": "ipython",
    "version": 3
   },
   "file_extension": ".py",
   "mimetype": "text/x-python",
   "name": "python",
   "nbconvert_exporter": "python",
   "pygments_lexer": "ipython3",
   "version": "3.11.1"
  }
 },
 "nbformat": 4,
 "nbformat_minor": 5
}
